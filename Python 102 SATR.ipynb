{
 "cells": [
  {
   "cell_type": "markdown",
   "id": "7a77ade9",
   "metadata": {},
   "source": [
    "## SATR\n",
    "### Python 102 : Notes"
   ]
  },
  {
   "cell_type": "code",
   "execution_count": 1,
   "id": "7d5068ad",
   "metadata": {},
   "outputs": [
    {
     "name": "stdout",
     "output_type": "stream",
     "text": [
      "999\n"
     ]
    }
   ],
   "source": [
    "number = -999\n",
    "print(abs(number))"
   ]
  },
  {
   "cell_type": "code",
   "execution_count": 3,
   "id": "5effe89b",
   "metadata": {},
   "outputs": [
    {
     "name": "stdout",
     "output_type": "stream",
     "text": [
      "4\n",
      "3.67\n"
     ]
    }
   ],
   "source": [
    "number = 3.673\n",
    "print(round(number))\n",
    "print(round(number,2))"
   ]
  },
  {
   "cell_type": "code",
   "execution_count": 5,
   "id": "ec762a92",
   "metadata": {},
   "outputs": [
    {
     "name": "stdout",
     "output_type": "stream",
     "text": [
      "9\n"
     ]
    }
   ],
   "source": [
    "n=3\n",
    "print(pow(n,2))"
   ]
  },
  {
   "cell_type": "code",
   "execution_count": 6,
   "id": "64bea98d",
   "metadata": {},
   "outputs": [
    {
     "name": "stdout",
     "output_type": "stream",
     "text": [
      "1000\n",
      "276\n"
     ]
    }
   ],
   "source": [
    "numbers  = 300,600,786,1000,276\n",
    "print(max(numbers))\n",
    "print(min(numbers))"
   ]
  },
  {
   "cell_type": "code",
   "execution_count": 7,
   "id": "58accb8e",
   "metadata": {},
   "outputs": [
    {
     "name": "stdout",
     "output_type": "stream",
     "text": [
      "2962\n"
     ]
    }
   ],
   "source": [
    "numbers  = 300,600,786,1000,276\n",
    "print(sum(numbers))"
   ]
  },
  {
   "cell_type": "code",
   "execution_count": 8,
   "id": "a1e95dc1",
   "metadata": {},
   "outputs": [
    {
     "data": {
      "text/plain": [
       "12.0"
      ]
     },
     "execution_count": 8,
     "metadata": {},
     "output_type": "execute_result"
    }
   ],
   "source": [
    "import math \n",
    "number=144\n",
    "math.sqrt(144)\n"
   ]
  },
  {
   "cell_type": "code",
   "execution_count": 10,
   "id": "6aab2f0e",
   "metadata": {},
   "outputs": [
    {
     "name": "stdout",
     "output_type": "stream",
     "text": [
      "1.0\n"
     ]
    }
   ],
   "source": [
    "import math\n",
    "print(math.remainder(26,5))"
   ]
  },
  {
   "cell_type": "code",
   "execution_count": 13,
   "id": "f620aef8",
   "metadata": {},
   "outputs": [
    {
     "name": "stdout",
     "output_type": "stream",
     "text": [
      "64\n"
     ]
    }
   ],
   "source": [
    "#genrate a random number between 1-100\n",
    "import random\n",
    "print(random.randint(1,100))"
   ]
  },
  {
   "cell_type": "code",
   "execution_count": 16,
   "id": "6cb985a9",
   "metadata": {},
   "outputs": [
    {
     "name": "stdout",
     "output_type": "stream",
     "text": [
      "2022-02-13\n",
      "2022\n",
      "2\n",
      "13\n"
     ]
    }
   ],
   "source": [
    "#datetime\n",
    "import datetime\n",
    "date =  datetime.date(2022,2,13)\n",
    "print(date)\n",
    "print(date.year)\n",
    "print(date.month)\n",
    "print(date.day)"
   ]
  },
  {
   "cell_type": "code",
   "execution_count": 17,
   "id": "aa265c2c",
   "metadata": {},
   "outputs": [
    {
     "name": "stdout",
     "output_type": "stream",
     "text": [
      "14:33:15\n",
      "14\n",
      "33\n",
      "15\n"
     ]
    }
   ],
   "source": [
    "import datetime\n",
    "time = datetime.time(14,33,15)\n",
    "print(time)\n",
    "print(time.hour)\n",
    "print(time.minute)\n",
    "print(time.second)"
   ]
  },
  {
   "cell_type": "code",
   "execution_count": 20,
   "id": "4bfab5c0",
   "metadata": {},
   "outputs": [
    {
     "name": "stdout",
     "output_type": "stream",
     "text": [
      "2023-06-11 10:06:06.847910\n",
      "2023\n"
     ]
    }
   ],
   "source": [
    "import datetime\n",
    "now = datetime.datetime.today()\n",
    "print(now)\n",
    "print(now.year)"
   ]
  },
  {
   "cell_type": "code",
   "execution_count": 24,
   "id": "fd94fff1",
   "metadata": {},
   "outputs": [
    {
     "name": "stdout",
     "output_type": "stream",
     "text": [
      "2022-02-13\n",
      "14:05:17\n",
      "Sunday February 2022\n",
      "02 05 17\n"
     ]
    }
   ],
   "source": [
    "#change date to string\n",
    "import datetime\n",
    "date = datetime.date(2022,2,13)\n",
    "time = datetime.time(14,5,17)\n",
    "print(date)\n",
    "print(time)\n",
    "\n",
    "print(date.strftime('%A %B %Y'))\n",
    "print(time.strftime('%I %M %S'))"
   ]
  },
  {
   "cell_type": "code",
   "execution_count": 26,
   "id": "201c52f5",
   "metadata": {},
   "outputs": [
    {
     "name": "stdout",
     "output_type": "stream",
     "text": [
      "a\n",
      "z\n"
     ]
    }
   ],
   "source": [
    "#Advanced Strings\n",
    "#Indexing\n",
    "alphabet='abcdefghijklmnopqrstuvwxyz'\n",
    "print(alphabet[0])\n",
    "print(alphabet[-1])\n",
    "\n"
   ]
  },
  {
   "cell_type": "code",
   "execution_count": 34,
   "id": "9044034c",
   "metadata": {},
   "outputs": [
    {
     "name": "stdout",
     "output_type": "stream",
     "text": [
      "Python\n",
      "Python Course\n",
      "This is\n",
      "This is Python Course\n",
      "Course\n",
      "[4, 5, 6]\n",
      "(3, 4, 5, 6)\n"
     ]
    }
   ],
   "source": [
    "#Slicing\n",
    "text='This is Python Course'\n",
    "#closed Range Slicing\n",
    "print(text[8:14])\n",
    "#open range Slicing\n",
    "print(text[8:])\n",
    "print(text[:7])\n",
    "print(text[:])\n",
    "print(text[-6:])\n",
    "\n",
    "the_list=[1,2,3,4,5,6]\n",
    "the_tuple=(1,2,3,4,5,6)\n",
    "print(the_list[-3:])\n",
    "print(the_tuple[2:])"
   ]
  },
  {
   "cell_type": "code",
   "execution_count": 39,
   "id": "074f4e68",
   "metadata": {},
   "outputs": [
    {
     "name": "stdout",
     "output_type": "stream",
     "text": [
      "aceg\n",
      "fedcb\n",
      "[4, 2]\n",
      "(1, 2, 3)\n"
     ]
    }
   ],
   "source": [
    "alphabet='abcdefghijklmnopqrstuvwxyz'\n",
    "print(alphabet[0:7:2])\n",
    "print(alphabet[5:0:-1])\n",
    "the_list=[1,2,3,4,5,6]\n",
    "the_tuple=(1,2,3,4,5,6)\n",
    "\n",
    "print(the_list[3:0:-2])\n",
    "print(the_tuple[0:3:1])\n"
   ]
  },
  {
   "cell_type": "code",
   "execution_count": 43,
   "id": "acc2a745",
   "metadata": {},
   "outputs": [
    {
     "name": "stdout",
     "output_type": "stream",
     "text": [
      "abcde\n",
      "abcde\n",
      "[1, 2, 3, 4, 5]\n",
      "(1, 2, 3, 4, 5)\n"
     ]
    }
   ],
   "source": [
    "#slice\n",
    "alphabet='abcdefghijklmnopqrstuvwxyz'\n",
    "print(alphabet[0:5])\n",
    "s=slice(0,5)\n",
    "print(alphabet[s])\n",
    "the_list=[1,2,3,4,5,6]\n",
    "the_tuple=(1,2,3,4,5,6)\n",
    "print(the_list[s])\n",
    "print(the_tuple[s])"
   ]
  },
  {
   "cell_type": "code",
   "execution_count": 46,
   "id": "d6d2fe25",
   "metadata": {},
   "outputs": [
    {
     "name": "stdout",
     "output_type": "stream",
     "text": [
      "2\n",
      "1\n",
      "0\n"
     ]
    }
   ],
   "source": [
    "#index\n",
    "text = 'This is python course'\n",
    "the_list = [1,2,2,3]\n",
    "the_tuple = (4,5)\n",
    "print(text.index('is'))\n",
    "print(the_list.index(2))\n",
    "print(the_tuple.index(4))"
   ]
  },
  {
   "cell_type": "code",
   "execution_count": 49,
   "id": "e268d913",
   "metadata": {},
   "outputs": [
    {
     "name": "stdout",
     "output_type": "stream",
     "text": [
      "26\n",
      "4\n",
      "5\n"
     ]
    }
   ],
   "source": [
    "#len\n",
    "alphabet='abcdefghijklmnopqrstuvwxyz'\n",
    "the_list = [1,2,3,4]\n",
    "the_tuple = (1,2,3,4,5)\n",
    "print(len(alphabet))\n",
    "print(len(the_list))\n",
    "print(len(the_tuple))"
   ]
  },
  {
   "cell_type": "code",
   "execution_count": 55,
   "id": "5c1928fe",
   "metadata": {},
   "outputs": [
    {
     "name": "stdout",
     "output_type": "stream",
     "text": [
      "3\n",
      "5\n",
      "4\n"
     ]
    }
   ],
   "source": [
    "#count\n",
    "the_string='this is the student noura'\n",
    "the_list = [1,2,2,3,3,3,3,3]\n",
    "the_tuple = (1,2,3,4,5,5,5,5)\n",
    "print(the_string.count('s'))\n",
    "print(the_list.count(3))\n",
    "print(the_tuple.count(5))"
   ]
  },
  {
   "cell_type": "code",
   "execution_count": 59,
   "id": "22c5c86c",
   "metadata": {},
   "outputs": [
    {
     "name": "stdout",
     "output_type": "stream",
     "text": [
      "True\n",
      "False\n",
      "True\n",
      "False\n"
     ]
    }
   ],
   "source": [
    "#in\n",
    "text='Lorem ipsum dolor sit amet, consectetur adipiscing elit, sed do'\n",
    "print('do' in text)\n",
    "print('is' not in text )\n",
    "\n",
    "the_list = [1,2,2,3,3,3,3,3]\n",
    "the_tuple = (1,2,3,4,5,5,5,5)\n",
    "print(0 not in the_list)\n",
    "print(6 in the_tuple)"
   ]
  },
  {
   "cell_type": "code",
   "execution_count": 65,
   "id": "88cc4322",
   "metadata": {},
   "outputs": [
    {
     "name": "stdout",
     "output_type": "stream",
     "text": [
      "Sara faisal\n",
      "SaraSaraSara\n",
      "[1, 2, 3, 4, 5, 6]\n",
      "(1, 2, 3, 4, 5, 6)\n",
      "[4, 5, 6, 4, 5, 6, 4, 5, 6]\n",
      "(1, 2, 3, 1, 2, 3)\n"
     ]
    }
   ],
   "source": [
    "first_name='Sara'\n",
    "second_name='faisal'\n",
    "print(first_name+' '+second_name)\n",
    "print(first_name*3)\n",
    "\n",
    "list1=[1,2,3]\n",
    "list2=[4,5,6]\n",
    "tuple1=1,2,3\n",
    "tuple2=4,5,6\n",
    "print(list1+list2)\n",
    "print(tuple1+tuple2)\n",
    "print(list2*3)\n",
    "print(tuple1*2)"
   ]
  },
  {
   "cell_type": "code",
   "execution_count": 67,
   "id": "2c8c5034",
   "metadata": {},
   "outputs": [
    {
     "name": "stdout",
     "output_type": "stream",
     "text": [
      "Ph\n"
     ]
    }
   ],
   "source": [
    "text = 'Python'\n",
    "print(text[0:5:3])"
   ]
  },
  {
   "cell_type": "code",
   "execution_count": 68,
   "id": "63182597",
   "metadata": {},
   "outputs": [
    {
     "name": "stdout",
     "output_type": "stream",
     "text": [
      "h\n"
     ]
    }
   ],
   "source": [
    "text = 'Python'\n",
    "print(text[-3])"
   ]
  },
  {
   "cell_type": "code",
   "execution_count": 73,
   "id": "5ee3a03f",
   "metadata": {},
   "outputs": [
    {
     "name": "stdout",
     "output_type": "stream",
     "text": [
      "12\n",
      "61\n",
      "-1\n",
      "53\n"
     ]
    }
   ],
   "source": [
    "#Advanced Strings\n",
    "#find\n",
    "text='Lorem ipsum dolor sit amet, consectetur adipiscing elit, sed do'\n",
    "print(text.find('do')) #first match\n",
    "print(text.rfind('do')) #last match\n",
    "print(text.find('xx')) #no match gives -1\n",
    "print(text.find('it',50,60)) #match in index range"
   ]
  },
  {
   "cell_type": "code",
   "execution_count": 80,
   "id": "0a7a746c",
   "metadata": {},
   "outputs": [
    {
     "name": "stdout",
     "output_type": "stream",
     "text": [
      "['A,', 'B,', 'C']\n",
      "['A', ' B', ' C']\n",
      "['thi', ' is a string']\n"
     ]
    }
   ],
   "source": [
    "text = 'A, B, C'\n",
    "string_to_list = text.split() #split by space\n",
    "string_to_list1 = text.split(',') #split by , \n",
    "print(string_to_list)\n",
    "print(string_to_list1)\n",
    "\n",
    "text1='this is a string'\n",
    "string_to_list2=text1.split('s',1) #split by s and split one time\n",
    "print(string_to_list2)"
   ]
  },
  {
   "cell_type": "code",
   "execution_count": 84,
   "id": "6b4f4606",
   "metadata": {},
   "outputs": [
    {
     "name": "stdout",
     "output_type": "stream",
     "text": [
      "A# B# C# D\n"
     ]
    }
   ],
   "source": [
    "#join\n",
    "text = 'A, B, C, D'\n",
    "string_to_list = text.split(',') #split by space\n",
    "list_to_string='#'.join(string_to_list)\n",
    "print(list_to_string)"
   ]
  },
  {
   "cell_type": "code",
   "execution_count": 88,
   "id": "db1cb314",
   "metadata": {},
   "outputs": [
    {
     "name": "stdout",
     "output_type": "stream",
     "text": [
      "True\n",
      "False\n",
      "True\n"
     ]
    }
   ],
   "source": [
    "values='A987'\n",
    "print(values.isalnum()) #String has only numbers and letters\n",
    "values1='A 987'\n",
    "print(values1.isalnum()) #Space is not true in isalnum \n",
    "values2='987'\n",
    "print(values2.isdigit()) #String has only digits"
   ]
  },
  {
   "cell_type": "code",
   "execution_count": 91,
   "id": "8205619d",
   "metadata": {},
   "outputs": [
    {
     "name": "stdout",
     "output_type": "stream",
     "text": [
      "1\n",
      "2\n",
      "3\n",
      "4\n",
      "5\n",
      "6\n",
      "1,2,3,4,5,6\n"
     ]
    }
   ],
   "source": [
    "#replace\n",
    "values='1\\n2\\n3\\n4\\n5\\n6'\n",
    "new_values = values.replace('\\n',',')\n",
    "print(values)\n",
    "print(new_values)"
   ]
  },
  {
   "cell_type": "code",
   "execution_count": 93,
   "id": "ccef05ab",
   "metadata": {},
   "outputs": [
    {
     "name": "stdout",
     "output_type": "stream",
     "text": [
      "Python course\n",
      "Python course  \n"
     ]
    }
   ],
   "source": [
    "#strip #remove unwanted spaces\n",
    "text='               Python course    '\n",
    "print(text.strip())\n",
    "print(text.lstrip())\n"
   ]
  },
  {
   "cell_type": "code",
   "execution_count": 98,
   "id": "eae4df1a",
   "metadata": {},
   "outputs": [
    {
     "name": "stdout",
     "output_type": "stream",
     "text": [
      "this is python course\n",
      "THIS IS PYTHON COURSE\n",
      "tHIS IS pYTHON cOURSE\n",
      "This Is Python Course\n"
     ]
    }
   ],
   "source": [
    "str = 'This is Python Course'\n",
    "print(str.lower()) #Convert to lower case\n",
    "print(str.upper()) #Convert to upper case\n",
    "print(str.swapcase()) #Convert upper to lower and lower to upper\n",
    "print(str.title()) #first letter upper"
   ]
  },
  {
   "cell_type": "code",
   "execution_count": 107,
   "id": "a2a9f61e",
   "metadata": {},
   "outputs": [
    {
     "name": "stdout",
     "output_type": "stream",
     "text": [
      "C:\\xMyFolder\\xMySubfolder\\xMyfile.txt\n"
     ]
    }
   ],
   "source": [
    "#Raw String r or R\n",
    "str = '\\t Python'\n",
    "str = r'\\t Python'\n",
    "file_path = 'C:\\\\xMyFolder\\\\xMySubfolder\\\\xMyfile.txt' \n",
    "file_path = r'C:\\xMyFolder\\xMySubfolder\\xMyfile.txt' \n",
    "#escape sequence error\n",
    "print(file_path)"
   ]
  },
  {
   "cell_type": "code",
   "execution_count": 4,
   "id": "f39d01da",
   "metadata": {},
   "outputs": [
    {
     "name": "stdout",
     "output_type": "stream",
     "text": [
      "My name is shoug alkurbi, and I am 25 years old \n",
      "My last name is alkurbi my first name is shoug, and I am 25 years old \n",
      "My name is shoug alkurbi, and I am 25 years old \n"
     ]
    }
   ],
   "source": [
    "#formate\n",
    "first_name  = 'shoug'\n",
    "last_name = 'alkurbi'\n",
    "age = 25\n",
    "print('My name is {} {}, and I am {} years old '.format(first_name,last_name,age))\n",
    "#{} is called place holder it can take an index number\n",
    "print('My last name is {1} my first name is {0}, and I am {2} years old '.format(first_name,last_name,age))\n",
    "#or varible name\n",
    "print('My name is {f_name} {l_name}, and I am {a} years old '.format(f_name=first_name,l_name=last_name,a=age))"
   ]
  },
  {
   "cell_type": "code",
   "execution_count": 14,
   "id": "a22792d3",
   "metadata": {},
   "outputs": [
    {
     "name": "stdout",
     "output_type": "stream",
     "text": [
      "1\n",
      "[1, 2, 3]\n",
      "3\n",
      "4\n",
      "9\n"
     ]
    }
   ],
   "source": [
    "#Advanced List\n",
    "#2D List\n",
    "value = [1,True,'Python']\n",
    "values = [[1,2,3],True,'Python']\n",
    "\n",
    "print(value[0])\n",
    "print(values[0])\n",
    "print(values[0][2])\n",
    "\n",
    "numbers = [[1,2,3],\n",
    "           [4,5,6],\n",
    "           [7,8,9]\n",
    "          ]\n",
    "print(numbers[1][0])\n",
    "print(numbers[2][2])\n"
   ]
  },
  {
   "cell_type": "code",
   "execution_count": 19,
   "id": "bf472040",
   "metadata": {},
   "outputs": [
    {
     "name": "stdout",
     "output_type": "stream",
     "text": [
      "[30, 22, 44, 26]\n"
     ]
    }
   ],
   "source": [
    "#filter\n",
    "ages = [30,9,15,22,17,44,26,5]\n",
    "\n",
    "def filtered_ages(age):\n",
    "    return age>=18\n",
    "\n",
    "print(list(filter(filtered_ages, ages)))"
   ]
  },
  {
   "cell_type": "code",
   "execution_count": 22,
   "id": "5dff5bf5",
   "metadata": {},
   "outputs": [
    {
     "name": "stdout",
     "output_type": "stream",
     "text": [
      "[25, 100, 400, 625, 2500]\n"
     ]
    }
   ],
   "source": [
    "#map\n",
    "\n",
    "numbers=[5,10,20,25,50]\n",
    "\n",
    "def square(num):\n",
    "    return num ** 2\n",
    "\n",
    "print(list(map(square,numbers)))"
   ]
  },
  {
   "cell_type": "code",
   "execution_count": 26,
   "id": "ac998df7",
   "metadata": {},
   "outputs": [
    {
     "name": "stdout",
     "output_type": "stream",
     "text": [
      "[1, 5, 8, 9]\n",
      "['Asmaa', 'Khadijah', 'Zainab']\n",
      "[9, 8, 5, 1]\n",
      "['Zainab', 'Khadijah', 'Asmaa']\n"
     ]
    }
   ],
   "source": [
    "#sort\n",
    "list_one = [9,5,1,8]\n",
    "list_two = ['Khadijah','Asmaa','Zainab']\n",
    "\n",
    "list_one.sort() #ascending order\n",
    "list_two.sort() #alphabetical order\n",
    "\n",
    "print(list_one)\n",
    "print(list_two)\n",
    "\n",
    "list_one.sort(reverse=True) #descending order\n",
    "list_two.sort(reverse=True) #reversed alphabetical order\n",
    "print(list_one)\n",
    "print(list_two)"
   ]
  },
  {
   "cell_type": "code",
   "execution_count": 27,
   "id": "c1974b4a",
   "metadata": {},
   "outputs": [
    {
     "name": "stdout",
     "output_type": "stream",
     "text": [
      "['Hind', 'Eman', 'Ghadah', 'Aljawharah']\n"
     ]
    }
   ],
   "source": [
    "#reverse\n",
    "names = ['Aljawharah','Ghadah','Eman','Hind']\n",
    "names.reverse()\n",
    "print(names)"
   ]
  },
  {
   "cell_type": "code",
   "execution_count": 32,
   "id": "840e2e23",
   "metadata": {},
   "outputs": [
    {
     "name": "stdout",
     "output_type": "stream",
     "text": [
      "[2, 4, 6, 8, 10]\n",
      "[8, 10]\n",
      "[10]\n"
     ]
    }
   ],
   "source": [
    "#List Comprehension\n",
    "lst = [1,2,3,4,5]\n",
    "\n",
    "multiplied_list = [num*2 for num in lst]\n",
    "print(multiplied_list)\n",
    "\n",
    "#List Comprehension and if condition\n",
    "multiplied_list = [num*2 for num in lst if num>3]\n",
    "print(multiplied_list)\n",
    "multiplied_list = [num*2 for num in lst if num>3 and num%5==0]\n",
    "print(multiplied_list)"
   ]
  },
  {
   "cell_type": "code",
   "execution_count": 33,
   "id": "cb742836",
   "metadata": {},
   "outputs": [
    {
     "name": "stdout",
     "output_type": "stream",
     "text": [
      "My name is Ghadah and I am 16 years old\n"
     ]
    }
   ],
   "source": [
    "#Advanced Functions\n",
    "#Positional Arguments\n",
    "def info(name,age):\n",
    "    print('My name is',name,'and I am',age,'years old')\n",
    "    \n",
    "info('Ghadah',16)  #Require Argument \n",
    "#Number of Argument = number of parameter and require order\n",
    "\n",
    "\n"
   ]
  },
  {
   "cell_type": "code",
   "execution_count": 35,
   "id": "7bd2de58",
   "metadata": {},
   "outputs": [
    {
     "name": "stdout",
     "output_type": "stream",
     "text": [
      "My name is Ghadah and I am 16 years old\n"
     ]
    }
   ],
   "source": [
    "#keyword Arguments\n",
    "def info(name,age):\n",
    "    print('My name is',name,'and I am',age,'years old')\n",
    "    \n",
    "info(age = 16,name='Ghadah')  #Require Argument \n",
    "\n",
    "#Keyword Arguments #order doesn't matter \n",
    "#Number of Argument = number of parameter\n",
    "#keyword Arguments name = parameter name\n",
    "\n",
    "#we can not run positional argument follows keyword argument \n",
    "#we can run keyword argument follows positional argument"
   ]
  },
  {
   "cell_type": "code",
   "execution_count": 41,
   "id": "587df33c",
   "metadata": {},
   "outputs": [
    {
     "name": "stdout",
     "output_type": "stream",
     "text": [
      "My name is Ghadah and I am 16 years old and i am taking python course\n",
      "My name is Ghadah fahad and I am 26 years old and i am taking Javascript course\n"
     ]
    }
   ],
   "source": [
    "#Default Parameter or Optional Parameter\n",
    "\n",
    "def info(name ='Ghadah',age=16,course='python'):  #default parameter\n",
    "    print('My name is',name,'and I am',age,'years old and i am taking',course,'course')\n",
    "    \n",
    "info()\n",
    "info('Ghadah fahad',26,'Javascript') #Require order \n",
    "    \n",
    "    "
   ]
  },
  {
   "cell_type": "code",
   "execution_count": 46,
   "id": "39b5cea8",
   "metadata": {},
   "outputs": [
    {
     "name": "stdout",
     "output_type": "stream",
     "text": [
      "3.0\n"
     ]
    }
   ],
   "source": [
    "#Argument Packing\n",
    "#Argument Tuple Packing\n",
    "\n",
    "def avg(*args): #Argument Tuple Packing #args classtype tuple\n",
    "    total = sum(args)\n",
    "    leng = len(args)\n",
    "    average = total / leng\n",
    "    print(average)\n",
    "\n",
    "avg(2,6,1)"
   ]
  },
  {
   "cell_type": "code",
   "execution_count": 49,
   "id": "8ba7f93c",
   "metadata": {},
   "outputs": [
    {
     "name": "stdout",
     "output_type": "stream",
     "text": [
      "Fisrt Student's name: Abdullah\n",
      "Second Student's name: Sara\n",
      "Third Student's name: Ahmed\n"
     ]
    }
   ],
   "source": [
    "#Argument Tuple Unpacking\n",
    "def info(name1,name2,name3):\n",
    "    print(\"Fisrt Student's name:\", name1)\n",
    "    print(\"Second Student's name:\", name2)\n",
    "    print(\"Third Student's name:\", name3)\n",
    "\n",
    "names='Abdullah','Sara','Ahmed'\n",
    "info(*names) #Argument Tuple Unpacking"
   ]
  },
  {
   "cell_type": "code",
   "execution_count": 51,
   "id": "eb5665c1",
   "metadata": {},
   "outputs": [
    {
     "name": "stdout",
     "output_type": "stream",
     "text": [
      "('a', 'b', 'c')\n"
     ]
    }
   ],
   "source": [
    "#Packing and Unpaking Argument\n",
    "\n",
    "def my_func(*items): #Packing\n",
    "    print(items)\n",
    "    \n",
    "items = ['a','b','c']\n",
    "my_func(*items) #Unpacking\n"
   ]
  },
  {
   "cell_type": "code",
   "execution_count": 54,
   "id": "e34d72ca",
   "metadata": {},
   "outputs": [
    {
     "name": "stdout",
     "output_type": "stream",
     "text": [
      "My name is Ali\n"
     ]
    }
   ],
   "source": [
    "#Argument Dictionary Packing\n",
    "\n",
    "def info(**kwargs): #Argument Dictionary Packing #<class 'dict'>\n",
    "    print('My name is',kwargs['name'])\n",
    "\n",
    "info(name='Ali',age=17) #only keyword argument no postional argument"
   ]
  },
  {
   "cell_type": "code",
   "execution_count": 56,
   "id": "5ef89247",
   "metadata": {},
   "outputs": [
    {
     "name": "stdout",
     "output_type": "stream",
     "text": [
      "My name is Ali and I am 17 years old\n"
     ]
    }
   ],
   "source": [
    "#Argument Dictionary Unpacking\n",
    "\n",
    "def info(name,age): \n",
    "    print('My name is',name,'and I am',age,'years old')\n",
    "\n",
    "d={'name':'Ali','age':17}\n",
    "info(**d) #Argument Dictionary Unpacking"
   ]
  },
  {
   "cell_type": "code",
   "execution_count": 64,
   "id": "52649095",
   "metadata": {},
   "outputs": [
    {
     "name": "stdout",
     "output_type": "stream",
     "text": [
      "([1, 2, 3],)\n"
     ]
    }
   ],
   "source": [
    "def my_func(*nums):\n",
    "    print(nums)\n",
    "\n",
    "nums = [1, 2, 3]\n",
    "my_func(nums)"
   ]
  },
  {
   "cell_type": "code",
   "execution_count": 66,
   "id": "1d61ae09",
   "metadata": {},
   "outputs": [
    {
     "name": "stdout",
     "output_type": "stream",
     "text": [
      "4 apple cost 1\n"
     ]
    }
   ],
   "source": [
    "def info(quantity=4, item = 'apple', price = 1):\n",
    "    print(quantity, item, 'cost', price)\n",
    "info()"
   ]
  },
  {
   "cell_type": "code",
   "execution_count": null,
   "id": "86dd45c3",
   "metadata": {},
   "outputs": [],
   "source": []
  }
 ],
 "metadata": {
  "kernelspec": {
   "display_name": "Python 3",
   "language": "python",
   "name": "python3"
  },
  "language_info": {
   "codemirror_mode": {
    "name": "ipython",
    "version": 3
   },
   "file_extension": ".py",
   "mimetype": "text/x-python",
   "name": "python",
   "nbconvert_exporter": "python",
   "pygments_lexer": "ipython3",
   "version": "3.9.5"
  }
 },
 "nbformat": 4,
 "nbformat_minor": 5
}
