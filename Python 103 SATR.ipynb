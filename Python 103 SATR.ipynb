{
 "cells": [
  {
   "cell_type": "markdown",
   "id": "8ee3b68f",
   "metadata": {},
   "source": [
    "## SATR\n",
    "### Python 103 : Notes"
   ]
  },
  {
   "cell_type": "code",
   "execution_count": 1,
   "id": "e84f9e97",
   "metadata": {},
   "outputs": [],
   "source": [
    "#object Oriented Programming\n",
    "\n",
    "\n"
   ]
  },
  {
   "cell_type": "code",
   "execution_count": 2,
   "id": "4bdb5348",
   "metadata": {},
   "outputs": [],
   "source": [
    "#classes and objects\n",
    "\n",
    "        \n",
    "    \n"
   ]
  },
  {
   "cell_type": "code",
   "execution_count": 3,
   "id": "84ce7aba",
   "metadata": {},
   "outputs": [],
   "source": [
    "#Methods and Arrtibutes\n",
    "\n"
   ]
  },
  {
   "cell_type": "code",
   "execution_count": 8,
   "id": "a7d6717f",
   "metadata": {},
   "outputs": [
    {
     "name": "stdout",
     "output_type": "stream",
     "text": [
      "nouf\n",
      "My name is: nouf\n"
     ]
    }
   ],
   "source": [
    "class Student:\n",
    "    def __init__(self, name, age, id, grades):\n",
    "        self.name = name\n",
    "        self.age = age\n",
    "        self.id = id\n",
    "        self.grades = grades\n",
    "    \n",
    "    def talk(self):\n",
    "        print('My name is:', self.name)\n",
    "\n",
    "std1 = Student('nouf',21,'xx00',95) #object from class Student\n",
    "print(std1.name)\n",
    "std1.talk()"
   ]
  },
  {
   "cell_type": "code",
   "execution_count": 9,
   "id": "0ccc934e",
   "metadata": {},
   "outputs": [
    {
     "name": "stdout",
     "output_type": "stream",
     "text": [
      "<__main__.Student object at 0x000002A2DE6DAC70>\n",
      "<__main__.Student object at 0x000002A2DE6DAD00>\n"
     ]
    }
   ],
   "source": [
    "#self\n",
    "class Student:\n",
    "    def talk(self):\n",
    "        print(self)\n",
    "\n",
    "std1=Student()\n",
    "std2=Student()\n",
    "\n",
    "std1.talk()\n",
    "std2.talk()"
   ]
  },
  {
   "cell_type": "code",
   "execution_count": 12,
   "id": "8eeadd8b",
   "metadata": {},
   "outputs": [],
   "source": [
    "#Constructor\n",
    "\n",
    "class Student:\n",
    "    def __init__(self, name, age, id, grades):#Constructor \n",
    "        self.name = name            #the function __init__  initalize\n",
    "        self.age = age\n",
    "        self.id = id\n",
    "        self.grades = grades\n",
    "    def talk(self):\n",
    "        print('My name is:', self.name)\n",
    "\n",
    "std1 = Student('nouf',21,'xx00',95)\n",
    "\n",
    "\n",
    "\n",
    "\n"
   ]
  },
  {
   "cell_type": "code",
   "execution_count": 13,
   "id": "46cdb332",
   "metadata": {},
   "outputs": [],
   "source": [
    "#Encapsulation\n",
    "#Data integrity\n",
    "#function interface\n",
    "\n"
   ]
  },
  {
   "cell_type": "code",
   "execution_count": 14,
   "id": "0ebe833d",
   "metadata": {},
   "outputs": [
    {
     "name": "stdout",
     "output_type": "stream",
     "text": [
      "['__class__', '__delattr__', '__dict__', '__dir__', '__doc__', '__eq__', '__format__', '__ge__', '__getattribute__', '__gt__', '__hash__', '__init__', '__init_subclass__', '__le__', '__lt__', '__module__', '__ne__', '__new__', '__reduce__', '__reduce_ex__', '__repr__', '__setattr__', '__sizeof__', '__str__', '__subclasshook__', '__weakref__', 'age', 'grades', 'id', 'name', 'talk']\n"
     ]
    }
   ],
   "source": [
    "#Methods and Arrtibutes\n",
    "#die\n",
    "\n",
    "class Student:\n",
    "    def __init__(self, name, age, id, grades):#Constructor \n",
    "        self.name = name            #the function __init__  initalize\n",
    "        self.age = age\n",
    "        self.id = id\n",
    "        self.grades = grades\n",
    "    def talk(self):\n",
    "        print('My name is:', self.name)\n",
    "\n",
    "std1 = Student('nouf',21,'xx00',[95,98,99])\n",
    "std2 = Student('Hessah',19,'xx001',86)\n",
    "\n",
    "print(dir(std2)) #return all arrtibutes the object have"
   ]
  },
  {
   "cell_type": "code",
   "execution_count": 17,
   "id": "f91676e7",
   "metadata": {},
   "outputs": [
    {
     "name": "stdout",
     "output_type": "stream",
     "text": [
      "['__class__', '__delattr__', '__dict__', '__dir__', '__doc__', '__eq__', '__format__', '__ge__', '__getattribute__', '__gt__', '__hash__', '__init__', '__init_subclass__', '__le__', '__lt__', '__module__', '__ne__', '__new__', '__reduce__', '__reduce_ex__', '__repr__', '__setattr__', '__sizeof__', '__str__', '__subclasshook__', '__weakref__', 'age', 'grades', 'id', 'name', 'talk', 'v_hours']\n",
      "['__class__', '__delattr__', '__dict__', '__dir__', '__doc__', '__eq__', '__format__', '__ge__', '__getattribute__', '__gt__', '__hash__', '__init__', '__init_subclass__', '__le__', '__lt__', '__module__', '__ne__', '__new__', '__reduce__', '__reduce_ex__', '__repr__', '__setattr__', '__sizeof__', '__str__', '__subclasshook__', '__weakref__', 'age', 'grades', 'id', 'name', 'talk']\n"
     ]
    }
   ],
   "source": [
    "#Add Arrtibute to object\n",
    "class Student:\n",
    "    def __init__(self, name, age, id, grades):#Constructor \n",
    "        self.name = name            #the function __init__  initalize\n",
    "        self.age = age\n",
    "        self.id = id\n",
    "        self.grades = grades\n",
    "    def talk(self):\n",
    "        print('My name is:', self.name)\n",
    "\n",
    "std1 = Student('nouf',21,'xx00',[95,98,99])\n",
    "std2 = Student('Hessah',19,'xx001',86)\n",
    "\n",
    "std2.v_hours=16 #Add Arrtibute to object\n",
    "print(dir(std2))\n",
    "print(dir(std1))"
   ]
  },
  {
   "cell_type": "code",
   "execution_count": 18,
   "id": "643cb2e7",
   "metadata": {},
   "outputs": [
    {
     "name": "stdout",
     "output_type": "stream",
     "text": [
      "['__class__', '__delattr__', '__dict__', '__dir__', '__doc__', '__eq__', '__format__', '__ge__', '__getattribute__', '__gt__', '__hash__', '__init__', '__init_subclass__', '__le__', '__lt__', '__module__', '__ne__', '__new__', '__reduce__', '__reduce_ex__', '__repr__', '__setattr__', '__sizeof__', '__str__', '__subclasshook__', '__weakref__', 'age', 'grades', 'id', 'name', 'talk', 'v_hours']\n"
     ]
    }
   ],
   "source": [
    "#delet Object or Arrtibute\n",
    "#del keyword\n",
    "class Student:\n",
    "    def __init__(self, name, age, id, grades):#Constructor \n",
    "        self.name = name            #the function __init__  initalize\n",
    "        self.age = age\n",
    "        self.id = id\n",
    "        self.grades = grades\n",
    "    def talk(self):\n",
    "        print('My name is:', self.name)\n",
    "\n",
    "std1 = Student('nouf',21,'xx00',[95,98,99])\n",
    "std2 = Student('Hessah',19,'xx001',86)\n",
    "\n",
    "std2.v_hours=16 #Add Arrtibute to object\n",
    "print(dir(std2))\n",
    "del std2.v_hours #delete Arrtibute\n",
    "\n",
    "del std2     #delete object"
   ]
  },
  {
   "cell_type": "code",
   "execution_count": 20,
   "id": "814e1440",
   "metadata": {},
   "outputs": [
    {
     "name": "stdout",
     "output_type": "stream",
     "text": [
      "King Saud University\n",
      "King Saud University\n"
     ]
    }
   ],
   "source": [
    "#Class Attribute or Static Members or Static data\n",
    "# Add Attribute to class\n",
    "\n",
    "class Student:\n",
    "    university_name = 'imam abdulrahman bin faisal university' #Static Member\n",
    "    def __init__(self, name, age, id, grades):\n",
    "        self.name = name           \n",
    "        self.age = age\n",
    "        self.id = id\n",
    "        self.grades = grades\n",
    "\n",
    "std1 = Student('nouf',21,'xx00',[95,98,99])\n",
    "std2 = Student('Hessah',19,'xx001',86)\n",
    "\n",
    "print(std1.university_name)\n",
    "print(std2.university_name)"
   ]
  },
  {
   "cell_type": "code",
   "execution_count": 22,
   "id": "97780289",
   "metadata": {},
   "outputs": [
    {
     "name": "stdout",
     "output_type": "stream",
     "text": [
      "hello\n",
      "hello\n",
      "100\n"
     ]
    }
   ],
   "source": [
    "#Getter #Setter\n",
    "class MyClass:\n",
    "    def set_val(self,value):\n",
    "        self.value = value\n",
    "    def get_val(self):\n",
    "        return self.value\n",
    "\n",
    "a = MyClass()\n",
    "b = MyClass()\n",
    "\n",
    "a.set_val(10)\n",
    "a.value = 'hello'\n",
    "b.set_val(100)\n",
    "\n",
    "print(a.get_val())\n",
    "print(a.value)\n",
    "print(b.get_val())\n"
   ]
  },
  {
   "cell_type": "code",
   "execution_count": 26,
   "id": "a48f0d30",
   "metadata": {},
   "outputs": [
    {
     "name": "stdout",
     "output_type": "stream",
     "text": [
      "9\n",
      "The value is not an integer\n",
      "9\n"
     ]
    }
   ],
   "source": [
    " #Setter #Getter\n",
    "class MyInteger:\n",
    "    def set_val(self, val):\n",
    "        if(type(val) == int):\n",
    "            self.val = val\n",
    "        else:\n",
    "            print('The value is not an integer')\n",
    "    def get_val(self):\n",
    "        return self.val\n",
    "    def increment_val(self):\n",
    "        self.val+=1\n",
    "\n",
    "i = MyInteger()\n",
    "i.set_val(9)\n",
    "print(i.get_val())\n",
    "i.set_val('a')\n",
    "print(i.get_val())\n",
    "\n",
    "#i.val='a' #error\n",
    "#i.increment_val #invalid input \n",
    "\n"
   ]
  },
  {
   "cell_type": "code",
   "execution_count": 29,
   "id": "c13d9f51",
   "metadata": {},
   "outputs": [
    {
     "name": "stdout",
     "output_type": "stream",
     "text": [
      "Ahmed\n",
      "+96655XXXXXX\n",
      "50\n"
     ]
    }
   ],
   "source": [
    "#Access Modifiers \n",
    "#types\n",
    "#Public # x = 10\n",
    "#Proctected _x = 10\n",
    "#Private __x = 10\n",
    "\n",
    "class Employee:\n",
    "    def __init__(self, name):\n",
    "        self.name = name #public\n",
    "        self._tel = '+96655XXXXXX' #protected\n",
    "        self.__salary = 1700 #private\n",
    "\n",
    "emp1 = Employee('Ahmed')\n",
    "print(emp1.name)\n",
    "print(emp1._tel)\n",
    "emp1.__salary = 50\n",
    "print(emp1.__salary)"
   ]
  },
  {
   "cell_type": "code",
   "execution_count": 1,
   "id": "f01ae8ba",
   "metadata": {},
   "outputs": [],
   "source": [
    "#Access Modifiers \n"
   ]
  },
  {
   "cell_type": "code",
   "execution_count": 11,
   "id": "c38a3e8f",
   "metadata": {},
   "outputs": [
    {
     "name": "stdout",
     "output_type": "stream",
     "text": [
      "Jeep\n",
      "The car has moved\n",
      "Mercedes\n",
      "The car has stopped\n"
     ]
    }
   ],
   "source": [
    "#Inheritance\n",
    "#Simalirity between classes\n",
    "#Parent class, Super class, and Base class\n",
    "#Child class, Derived Class, and Sub class\n",
    "#'is a ' used connect child class with parent class\n",
    "\n",
    "class Vehicle: #Parent class\n",
    "    def __init__(self, company, owner, color, current_speed):\n",
    "        self.company = company \n",
    "        self.owner = owner\n",
    "        self.color = color\n",
    "        self.current_speed = current_speed\n",
    "    \n",
    "    def move(self):\n",
    "        print('The car has moved')\n",
    "    def stop(self):\n",
    "        print('The car has stopped')\n",
    "\n",
    "class Car(Vehicle):  #Child class\n",
    "    def display(self):\n",
    "        print('This is the Car class')\n",
    "\n",
    "class Truck(Vehicle):  #Child class\n",
    "    def display(self):\n",
    "        print('This is the Truck class')\n",
    "        \n",
    "        \n",
    "car1 = Car('Jeep','Nada','Black',0)\n",
    "print(car1.company)\n",
    "car1.move()\n",
    "\n",
    "truck1 = Truck('Mercedes','Mohammed','White',0)\n",
    "print(truck1.company)\n",
    "truck1.stop()\n"
   ]
  },
  {
   "cell_type": "code",
   "execution_count": 15,
   "id": "994145f9",
   "metadata": {},
   "outputs": [
    {
     "name": "stdout",
     "output_type": "stream",
     "text": [
      "mew\n"
     ]
    }
   ],
   "source": [
    "#Method Overridin\n",
    "\n",
    "class Animal:\n",
    "    def __init__(self, name, color):...\n",
    "        \n",
    "    def run(speed):...\n",
    "    \n",
    "    def make_sound(self):\n",
    "        print('sound')\n",
    "        \n",
    "class Cat(Animal):\n",
    "    def make_sound(self):  #overridding method in super class since \n",
    "                           # it has the same name \"make_sound\"\n",
    "        print('mew')           \n",
    "\n",
    "cat1 = Cat('Lili','Brown')\n",
    "cat1.make_sound()\n",
    "        "
   ]
  },
  {
   "cell_type": "code",
   "execution_count": 17,
   "id": "535de419",
   "metadata": {},
   "outputs": [
    {
     "name": "stdout",
     "output_type": "stream",
     "text": [
      "This is Child class\n",
      "This is Parent class\n",
      "This is Grandparent class\n"
     ]
    }
   ],
   "source": [
    "#Multilevel Inheritance\n",
    "\n",
    "class Grandparent:\n",
    "    def g_display(self):\n",
    "        print('This is Grandparent class')\n",
    "        \n",
    "class Parent(Grandparent):\n",
    "    def p_display(self):\n",
    "        print('This is Parent class')\n",
    "        \n",
    "        \n",
    "class Child(Parent):\n",
    "    def c_display(slef):\n",
    "        print('This is Child class')\n",
    "\n",
    "child1 = Child()\n",
    "child1.c_display()\n",
    "child1.p_display()\n",
    "child1.g_display()"
   ]
  },
  {
   "cell_type": "code",
   "execution_count": 18,
   "id": "f8e71d7a",
   "metadata": {},
   "outputs": [
    {
     "name": "stdout",
     "output_type": "stream",
     "text": [
      "This is Square class \n",
      "This is Polygon class\n",
      "This is Shape class\n"
     ]
    }
   ],
   "source": [
    "#Multi Inheritance\n",
    "\n",
    "class Polygon:\n",
    "    def p_display(self):\n",
    "        print('This is Polygon class')\n",
    "class Shape:\n",
    "    def sh_display(self):\n",
    "        print('This is Shape class')\n",
    "        \n",
    "class Square(Polygon, Shape): #Multi Inheritance\n",
    "    def s_display(self):\n",
    "        print('This is Square class ')\n",
    "\n",
    "sq = Square()\n",
    "sq.s_display()\n",
    "sq.p_display()\n",
    "sq.sh_display()"
   ]
  },
  {
   "cell_type": "code",
   "execution_count": 22,
   "id": "10ef3591",
   "metadata": {},
   "outputs": [
    {
     "name": "stdout",
     "output_type": "stream",
     "text": [
      "Doing this in class A\n"
     ]
    }
   ],
   "source": [
    "#Inheritance\n",
    "#MRO #Method reslotion order\n",
    "\n",
    "class A:\n",
    "    def do_this(self):\n",
    "        print('Doing this in class A')\n",
    "class B(A):\n",
    "    pass\n",
    "\n",
    "class C():\n",
    "    def do_this(self):\n",
    "        print('Doing this in class C')\n",
    "\n",
    "class D(B,C):\n",
    "    pass\n",
    "\n",
    "obj = D()\n",
    "obj.do_this()\n",
    "\n",
    "\n"
   ]
  },
  {
   "cell_type": "code",
   "execution_count": 23,
   "id": "ceb7e33c",
   "metadata": {},
   "outputs": [
    {
     "name": "stdout",
     "output_type": "stream",
     "text": [
      "[<class '__main__.D'>, <class '__main__.B'>, <class '__main__.A'>, <class '__main__.C'>, <class 'object'>]\n"
     ]
    }
   ],
   "source": [
    "#mro\n",
    "class A:\n",
    "    def do_this(self):\n",
    "        print('Doing this in class A')\n",
    "class B(A):\n",
    "    pass\n",
    "\n",
    "class C():\n",
    "    def do_this(self):\n",
    "        print('Doing this in class C')\n",
    "\n",
    "class D(B,C):\n",
    "    pass\n",
    "\n",
    "print(D.mro())"
   ]
  },
  {
   "cell_type": "code",
   "execution_count": 24,
   "id": "60c7cca9",
   "metadata": {},
   "outputs": [],
   "source": [
    "#Constructor\n",
    "\n",
    "class Person: #Parent class\n",
    "    def __init__(self, first_name, surname, tel):\n",
    "        self.first_name = first_name\n",
    "        self.surname = surname\n",
    "        self.tel = tel\n",
    "        \n",
    "    def full_name(self):\n",
    "        return self.first_name + \" \" + self.surname\n",
    "\n",
    "class Employee(Person): #Child class\n",
    "    def __init__(self, first_name, surname, tel, salary):\n",
    "        Person.__init__(self, first_name, surname, tel)\n",
    "        self.salary = salary\n",
    "        \n",
    "    def give_raise(self, amount):\n",
    "        self.salary = self.salary + amount\n",
    "\n"
   ]
  },
  {
   "cell_type": "code",
   "execution_count": 27,
   "id": "04bee113",
   "metadata": {},
   "outputs": [
    {
     "name": "stdout",
     "output_type": "stream",
     "text": [
      "Ahmed\n"
     ]
    }
   ],
   "source": [
    "#Super Function\n",
    "\n",
    "\n",
    "\n",
    "class Person: #Parent class\n",
    "    def __init__(self, first_name, surname, tel):\n",
    "        self.first_name = first_name\n",
    "        self.surname = surname\n",
    "        self.tel = tel\n",
    "        \n",
    "    def full_name(self):\n",
    "        return self.first_name + \" \" + self.surname\n",
    "\n",
    "class Employee(Person): #Child class\n",
    "    def __init__(self, first_name, surname, tel, salary):\n",
    "        super().__init__(first_name, surname, tel)\n",
    "        self.salary = salary\n",
    "        \n",
    "    def give_raise(self, amount):\n",
    "        self.salary = self.salary + amount\n",
    "\n",
    "emp1 = Employee(1700, 'Ali', 'Ahmed',+9665000000)\n",
    "print(emp1.tel)"
   ]
  },
  {
   "cell_type": "code",
   "execution_count": 30,
   "id": "a6145d85",
   "metadata": {},
   "outputs": [
    {
     "name": "stdout",
     "output_type": "stream",
     "text": [
      "The code for drawing the circle\n",
      "The code for drawing the square \n"
     ]
    }
   ],
   "source": [
    "#Polymorphism\n",
    "\n",
    "class Circle:\n",
    "    pass\n",
    "class Squre:\n",
    "    pass \n",
    "\n",
    "circle1 = Circle()\n",
    "square1 = Square()\n",
    "\n",
    "shapes = [circle1 , square1]\n",
    "\n",
    "\n",
    "for sh in shapes:\n",
    "    if isinstance(sh, Circle):\n",
    "        print('The code for drawing the circle')\n",
    "    else:\n",
    "        print('The code for drawing the square ')\n",
    "        \n",
    "#What if i want to add triangle class"
   ]
  },
  {
   "cell_type": "code",
   "execution_count": 31,
   "id": "af5a40c3",
   "metadata": {},
   "outputs": [
    {
     "name": "stdout",
     "output_type": "stream",
     "text": [
      "The code for drawing the circle\n",
      "The code for drawing the square\n",
      "The code for drawing the triangle\n"
     ]
    }
   ],
   "source": [
    "class Circle:\n",
    "    def draw(self):\n",
    "        print('The code for drawing the circle')\n",
    "class Square:\n",
    "    def draw(self):\n",
    "        print('The code for drawing the square')\n",
    "class Triangle:\n",
    "    def draw(self):\n",
    "        print('The code for drawing the triangle')\n",
    "\n",
    "circle1 = Circle()\n",
    "square1 = Square()\n",
    "triangle1 = Triangle()\n",
    "\n",
    "shapes = [circle1 , square1, triangle1]\n",
    "\n",
    "\n",
    "for sh in shapes:\n",
    "    sh.draw()  ##Polymorphism\n"
   ]
  },
  {
   "cell_type": "code",
   "execution_count": 35,
   "id": "61858154",
   "metadata": {},
   "outputs": [
    {
     "name": "stdout",
     "output_type": "stream",
     "text": [
      "This is the code for class Student\n"
     ]
    }
   ],
   "source": [
    "#Polymorphism\n",
    "#Duck Typing\n",
    "\n",
    "class Student:\n",
    "    def print_info(self):\n",
    "        print('This is the code for class Student')\n",
    "        \n",
    "class Teacher:\n",
    "    def print_info(self):\n",
    "        print('This is the code for class Teacher')\n",
    "        \n",
    "student1 = Student()\n",
    "teacher1 = Teacher()\n",
    "\n",
    "def func(obj):\n",
    "    obj.print_info() \n",
    "    \n",
    "func(student1) \n",
    "#func(teacher1)\n",
    "\n"
   ]
  },
  {
   "cell_type": "code",
   "execution_count": 36,
   "id": "2abe7017",
   "metadata": {},
   "outputs": [
    {
     "name": "stdout",
     "output_type": "stream",
     "text": [
      "[<class '__main__.Triangle'>, <class '__main__.Polygon'>, <class '__main__.Shape'>, <class 'object'>]\n"
     ]
    }
   ],
   "source": [
    "class Polygon:\n",
    "    pass\n",
    "\n",
    "class Shape:\n",
    "    pass\n",
    "\n",
    "class Triangle(Polygon, Shape):\n",
    "    pass\n",
    "\n",
    "print(Triangle.mro())"
   ]
  },
  {
   "cell_type": "code",
   "execution_count": null,
   "id": "dab14c2e",
   "metadata": {},
   "outputs": [],
   "source": []
  }
 ],
 "metadata": {
  "kernelspec": {
   "display_name": "Python 3",
   "language": "python",
   "name": "python3"
  },
  "language_info": {
   "codemirror_mode": {
    "name": "ipython",
    "version": 3
   },
   "file_extension": ".py",
   "mimetype": "text/x-python",
   "name": "python",
   "nbconvert_exporter": "python",
   "pygments_lexer": "ipython3",
   "version": "3.9.5"
  }
 },
 "nbformat": 4,
 "nbformat_minor": 5
}
